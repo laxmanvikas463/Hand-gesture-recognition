{
 "cells": [
  {
   "cell_type": "code",
   "execution_count": 3,
   "metadata": {
    "id": "igMyGnjE9hEp"
   },
   "outputs": [],
   "source": [
    "import csv\n",
    "\n",
    "import numpy as np\n",
    "import tensorflow as tf\n",
    "from sklearn.model_selection import train_test_split\n",
    "\n",
    "RANDOM_SEED = 42"
   ]
  },
  {
   "cell_type": "code",
   "execution_count": null,
   "metadata": {
    "scrolled": false
   },
   "outputs": [],
   "source": []
  },
  {
   "cell_type": "markdown",
   "metadata": {
    "id": "t2HDvhIu9hEr"
   },
   "source": [
    "# Specify each path"
   ]
  },
  {
   "cell_type": "code",
   "execution_count": 4,
   "metadata": {
    "id": "9NvZP2Zn9hEy"
   },
   "outputs": [],
   "source": [
    "dataset = 'model/keypoint_classifier/keypoint.csv'\n",
    "model_save_path = 'model/keypoint_classifier/keypoint_classifier.hdf5'\n",
    "tflite_save_path = 'model/keypoint_classifier/keypoint_classifier.tflite'"
   ]
  },
  {
   "cell_type": "markdown",
   "metadata": {
    "id": "s5oMH7x19hEz"
   },
   "source": [
    "# Set number of classes"
   ]
  },
  {
   "cell_type": "code",
   "execution_count": 5,
   "metadata": {
    "id": "du4kodXL9hEz"
   },
   "outputs": [],
   "source": [
    "NUM_CLASSES = 6"
   ]
  },
  {
   "cell_type": "markdown",
   "metadata": {
    "id": "XjnL0uso9hEz"
   },
   "source": [
    "# Dataset reading"
   ]
  },
  {
   "cell_type": "code",
   "execution_count": 6,
   "metadata": {
    "id": "QT5ZqtEz9hE0"
   },
   "outputs": [],
   "source": [
    "X_dataset = np.loadtxt(dataset, delimiter=',', dtype='float32', usecols=list(range(1, (21 * 2) + 1)))"
   ]
  },
  {
   "cell_type": "code",
   "execution_count": 7,
   "metadata": {
    "id": "QmoKFsp49hE0"
   },
   "outputs": [],
   "source": [
    "y_dataset = np.loadtxt(dataset, delimiter=',', dtype='int32', usecols=(0))"
   ]
  },
  {
   "cell_type": "code",
   "execution_count": 8,
   "metadata": {
    "id": "xQU7JTZ_9hE0"
   },
   "outputs": [],
   "source": [
    "X_train, X_test, y_train, y_test = train_test_split(X_dataset, y_dataset, train_size=0.75, random_state=RANDOM_SEED)"
   ]
  },
  {
   "cell_type": "markdown",
   "metadata": {
    "id": "mxK_lETT9hE0"
   },
   "source": [
    "# Model building"
   ]
  },
  {
   "cell_type": "code",
   "execution_count": 9,
   "metadata": {
    "id": "vHBmUf1t9hE1"
   },
   "outputs": [],
   "source": [
    "model = tf.keras.models.Sequential([\n",
    "    tf.keras.layers.Input((21 * 2, )),\n",
    "    tf.keras.layers.Dropout(0.2),\n",
    "    tf.keras.layers.Dense(20, activation='relu'),\n",
    "    tf.keras.layers.Dropout(0.4),\n",
    "    tf.keras.layers.Dense(10, activation='relu'),\n",
    "    tf.keras.layers.Dense(NUM_CLASSES, activation='softmax')\n",
    "])"
   ]
  },
  {
   "cell_type": "code",
   "execution_count": 10,
   "metadata": {
    "colab": {
     "base_uri": "https://localhost:8080/"
    },
    "id": "ypqky9tc9hE1",
    "outputId": "5db082bb-30e3-4110-bf63-a1ee777ecd46"
   },
   "outputs": [
    {
     "name": "stdout",
     "output_type": "stream",
     "text": [
      "Model: \"sequential\"\n",
      "_________________________________________________________________\n",
      " Layer (type)                Output Shape              Param #   \n",
      "=================================================================\n",
      " dropout (Dropout)           (None, 42)                0         \n",
      "                                                                 \n",
      " dense (Dense)               (None, 20)                860       \n",
      "                                                                 \n",
      " dropout_1 (Dropout)         (None, 20)                0         \n",
      "                                                                 \n",
      " dense_1 (Dense)             (None, 10)                210       \n",
      "                                                                 \n",
      " dense_2 (Dense)             (None, 6)                 66        \n",
      "                                                                 \n",
      "=================================================================\n",
      "Total params: 1,136\n",
      "Trainable params: 1,136\n",
      "Non-trainable params: 0\n",
      "_________________________________________________________________\n"
     ]
    }
   ],
   "source": [
    "model.summary()  # tf.keras.utils.plot_model(model, show_shapes=True)"
   ]
  },
  {
   "cell_type": "code",
   "execution_count": 11,
   "metadata": {
    "id": "MbMjOflQ9hE1"
   },
   "outputs": [],
   "source": [
    "# Model checkpoint callback\n",
    "cp_callback = tf.keras.callbacks.ModelCheckpoint(\n",
    "    model_save_path, verbose=1, save_weights_only=False)\n",
    "# Callback for early stopping\n",
    "es_callback = tf.keras.callbacks.EarlyStopping(patience=20, verbose=1)"
   ]
  },
  {
   "cell_type": "code",
   "execution_count": 12,
   "metadata": {
    "id": "c3Dac0M_9hE2"
   },
   "outputs": [],
   "source": [
    "# Model compilation\n",
    "model.compile(\n",
    "    optimizer='adam',\n",
    "    loss='sparse_categorical_crossentropy',\n",
    "    metrics=['accuracy']\n",
    ")"
   ]
  },
  {
   "cell_type": "markdown",
   "metadata": {
    "id": "7XI0j1Iu9hE2"
   },
   "source": [
    "# Model training"
   ]
  },
  {
   "cell_type": "code",
   "execution_count": 13,
   "metadata": {
    "colab": {
     "base_uri": "https://localhost:8080/"
    },
    "id": "WirBl-JE9hE3",
    "outputId": "71b30ca2-8294-4d9d-8aa2-800d90d399de",
    "scrolled": true
   },
   "outputs": [
    {
     "name": "stdout",
     "output_type": "stream",
     "text": [
      "Epoch 1/1000\n",
      "22/35 [=================>............] - ETA: 0s - loss: 1.8755 - accuracy: 0.1680 \n",
      "Epoch 1: saving model to model/keypoint_classifier\\keypoint_classifier.hdf5\n",
      "35/35 [==============================] - 1s 11ms/step - loss: 1.8389 - accuracy: 0.1884 - val_loss: 1.7137 - val_accuracy: 0.3625\n",
      "Epoch 2/1000\n",
      "17/35 [=============>................] - ETA: 0s - loss: 1.7238 - accuracy: 0.2597\n",
      "Epoch 2: saving model to model/keypoint_classifier\\keypoint_classifier.hdf5\n",
      "35/35 [==============================] - 0s 5ms/step - loss: 1.7019 - accuracy: 0.2733 - val_loss: 1.6185 - val_accuracy: 0.3638\n",
      "Epoch 3/1000\n",
      "22/35 [=================>............] - ETA: 0s - loss: 1.6477 - accuracy: 0.3029\n",
      "Epoch 3: saving model to model/keypoint_classifier\\keypoint_classifier.hdf5\n",
      "35/35 [==============================] - 0s 5ms/step - loss: 1.6359 - accuracy: 0.3100 - val_loss: 1.5460 - val_accuracy: 0.3809\n",
      "Epoch 4/1000\n",
      "20/35 [================>.............] - ETA: 0s - loss: 1.5934 - accuracy: 0.3215\n",
      "Epoch 4: saving model to model/keypoint_classifier\\keypoint_classifier.hdf5\n",
      "35/35 [==============================] - 0s 6ms/step - loss: 1.5753 - accuracy: 0.3277 - val_loss: 1.4913 - val_accuracy: 0.3884\n",
      "Epoch 5/1000\n",
      "25/35 [====================>.........] - ETA: 0s - loss: 1.5270 - accuracy: 0.3581\n",
      "Epoch 5: saving model to model/keypoint_classifier\\keypoint_classifier.hdf5\n",
      "35/35 [==============================] - 0s 5ms/step - loss: 1.5290 - accuracy: 0.3587 - val_loss: 1.4371 - val_accuracy: 0.4198\n",
      "Epoch 6/1000\n",
      "29/35 [=======================>......] - ETA: 0s - loss: 1.4814 - accuracy: 0.3739\n",
      "Epoch 6: saving model to model/keypoint_classifier\\keypoint_classifier.hdf5\n",
      "35/35 [==============================] - 0s 4ms/step - loss: 1.4807 - accuracy: 0.3748 - val_loss: 1.3693 - val_accuracy: 0.4519\n",
      "Epoch 7/1000\n",
      "26/35 [=====================>........] - ETA: 0s - loss: 1.4415 - accuracy: 0.4078\n",
      "Epoch 7: saving model to model/keypoint_classifier\\keypoint_classifier.hdf5\n",
      "35/35 [==============================] - 0s 5ms/step - loss: 1.4429 - accuracy: 0.4021 - val_loss: 1.3123 - val_accuracy: 0.5065\n",
      "Epoch 8/1000\n",
      "35/35 [==============================] - ETA: 0s - loss: 1.4046 - accuracy: 0.4290\n",
      "Epoch 8: saving model to model/keypoint_classifier\\keypoint_classifier.hdf5\n",
      "35/35 [==============================] - 0s 6ms/step - loss: 1.4046 - accuracy: 0.4290 - val_loss: 1.2367 - val_accuracy: 0.5911\n",
      "Epoch 9/1000\n",
      "19/35 [===============>..............] - ETA: 0s - loss: 1.3441 - accuracy: 0.4535\n",
      "Epoch 9: saving model to model/keypoint_classifier\\keypoint_classifier.hdf5\n",
      "35/35 [==============================] - 0s 6ms/step - loss: 1.3609 - accuracy: 0.4474 - val_loss: 1.1727 - val_accuracy: 0.6198\n",
      "Epoch 10/1000\n",
      "20/35 [================>.............] - ETA: 0s - loss: 1.3129 - accuracy: 0.4637\n",
      "Epoch 10: saving model to model/keypoint_classifier\\keypoint_classifier.hdf5\n",
      "35/35 [==============================] - 0s 5ms/step - loss: 1.3147 - accuracy: 0.4659 - val_loss: 1.1106 - val_accuracy: 0.6553\n",
      "Epoch 11/1000\n",
      "20/35 [================>.............] - ETA: 0s - loss: 1.2763 - accuracy: 0.4883\n",
      "Epoch 11: saving model to model/keypoint_classifier\\keypoint_classifier.hdf5\n",
      "35/35 [==============================] - 0s 5ms/step - loss: 1.2804 - accuracy: 0.4845 - val_loss: 1.0530 - val_accuracy: 0.6683\n",
      "Epoch 12/1000\n",
      "19/35 [===============>..............] - ETA: 0s - loss: 1.2511 - accuracy: 0.5078\n",
      "Epoch 12: saving model to model/keypoint_classifier\\keypoint_classifier.hdf5\n",
      "35/35 [==============================] - 0s 6ms/step - loss: 1.2254 - accuracy: 0.5173 - val_loss: 0.9937 - val_accuracy: 0.6799\n",
      "Epoch 13/1000\n",
      "19/35 [===============>..............] - ETA: 0s - loss: 1.2080 - accuracy: 0.5156\n",
      "Epoch 13: saving model to model/keypoint_classifier\\keypoint_classifier.hdf5\n",
      "35/35 [==============================] - 0s 5ms/step - loss: 1.1867 - accuracy: 0.5282 - val_loss: 0.9522 - val_accuracy: 0.7427\n",
      "Epoch 14/1000\n",
      "22/35 [=================>............] - ETA: 0s - loss: 1.1565 - accuracy: 0.5376\n",
      "Epoch 14: saving model to model/keypoint_classifier\\keypoint_classifier.hdf5\n",
      "35/35 [==============================] - 0s 5ms/step - loss: 1.1662 - accuracy: 0.5319 - val_loss: 0.9018 - val_accuracy: 0.7454\n",
      "Epoch 15/1000\n",
      "20/35 [================>.............] - ETA: 0s - loss: 1.1353 - accuracy: 0.5449\n",
      "Epoch 15: saving model to model/keypoint_classifier\\keypoint_classifier.hdf5\n",
      "35/35 [==============================] - 0s 5ms/step - loss: 1.1275 - accuracy: 0.5503 - val_loss: 0.8569 - val_accuracy: 0.7584\n",
      "Epoch 16/1000\n",
      "24/35 [===================>..........] - ETA: 0s - loss: 1.1199 - accuracy: 0.5439\n",
      "Epoch 16: saving model to model/keypoint_classifier\\keypoint_classifier.hdf5\n",
      "35/35 [==============================] - 0s 5ms/step - loss: 1.1152 - accuracy: 0.5485 - val_loss: 0.8170 - val_accuracy: 0.7898\n",
      "Epoch 17/1000\n",
      "20/35 [================>.............] - ETA: 0s - loss: 1.0774 - accuracy: 0.5746\n",
      "Epoch 17: saving model to model/keypoint_classifier\\keypoint_classifier.hdf5\n",
      "35/35 [==============================] - 0s 6ms/step - loss: 1.0808 - accuracy: 0.5655 - val_loss: 0.7834 - val_accuracy: 0.8171\n",
      "Epoch 18/1000\n",
      "20/35 [================>.............] - ETA: 0s - loss: 1.0426 - accuracy: 0.5797\n",
      "Epoch 18: saving model to model/keypoint_classifier\\keypoint_classifier.hdf5\n",
      "35/35 [==============================] - 0s 6ms/step - loss: 1.0493 - accuracy: 0.5822 - val_loss: 0.7521 - val_accuracy: 0.8082\n",
      "Epoch 19/1000\n",
      "22/35 [=================>............] - ETA: 0s - loss: 1.0235 - accuracy: 0.5856\n",
      "Epoch 19: saving model to model/keypoint_classifier\\keypoint_classifier.hdf5\n",
      "35/35 [==============================] - 0s 5ms/step - loss: 1.0281 - accuracy: 0.5876 - val_loss: 0.7182 - val_accuracy: 0.8294\n",
      "Epoch 20/1000\n",
      "18/35 [==============>...............] - ETA: 0s - loss: 1.0151 - accuracy: 0.5998\n",
      "Epoch 20: saving model to model/keypoint_classifier\\keypoint_classifier.hdf5\n",
      "35/35 [==============================] - 0s 6ms/step - loss: 1.0121 - accuracy: 0.6017 - val_loss: 0.6924 - val_accuracy: 0.8437\n",
      "Epoch 21/1000\n",
      "35/35 [==============================] - ETA: 0s - loss: 0.9947 - accuracy: 0.6001\n",
      "Epoch 21: saving model to model/keypoint_classifier\\keypoint_classifier.hdf5\n",
      "35/35 [==============================] - 0s 6ms/step - loss: 0.9947 - accuracy: 0.6001 - val_loss: 0.6681 - val_accuracy: 0.8491\n",
      "Epoch 22/1000\n",
      "18/35 [==============>...............] - ETA: 0s - loss: 0.9884 - accuracy: 0.6063\n",
      "Epoch 22: saving model to model/keypoint_classifier\\keypoint_classifier.hdf5\n",
      "35/35 [==============================] - 0s 6ms/step - loss: 0.9776 - accuracy: 0.6090 - val_loss: 0.6421 - val_accuracy: 0.8587\n",
      "Epoch 23/1000\n",
      "21/35 [=================>............] - ETA: 0s - loss: 0.9754 - accuracy: 0.6172\n",
      "Epoch 23: saving model to model/keypoint_classifier\\keypoint_classifier.hdf5\n",
      "35/35 [==============================] - 0s 5ms/step - loss: 0.9710 - accuracy: 0.6234 - val_loss: 0.6214 - val_accuracy: 0.8710\n",
      "Epoch 24/1000\n",
      "19/35 [===============>..............] - ETA: 0s - loss: 0.9338 - accuracy: 0.6427\n",
      "Epoch 24: saving model to model/keypoint_classifier\\keypoint_classifier.hdf5\n",
      "35/35 [==============================] - 0s 5ms/step - loss: 0.9398 - accuracy: 0.6352 - val_loss: 0.6041 - val_accuracy: 0.8717\n",
      "Epoch 25/1000\n",
      "21/35 [=================>............] - ETA: 0s - loss: 0.9290 - accuracy: 0.6380\n",
      "Epoch 25: saving model to model/keypoint_classifier\\keypoint_classifier.hdf5\n",
      "35/35 [==============================] - 0s 6ms/step - loss: 0.9287 - accuracy: 0.6338 - val_loss: 0.5878 - val_accuracy: 0.8908\n",
      "Epoch 26/1000\n",
      "22/35 [=================>............] - ETA: 0s - loss: 0.9465 - accuracy: 0.6250\n",
      "Epoch 26: saving model to model/keypoint_classifier\\keypoint_classifier.hdf5\n",
      "35/35 [==============================] - 0s 5ms/step - loss: 0.9368 - accuracy: 0.6270 - val_loss: 0.5759 - val_accuracy: 0.8949\n",
      "Epoch 27/1000\n",
      "24/35 [===================>..........] - ETA: 0s - loss: 0.9247 - accuracy: 0.6309\n",
      "Epoch 27: saving model to model/keypoint_classifier\\keypoint_classifier.hdf5\n",
      "35/35 [==============================] - 0s 4ms/step - loss: 0.9175 - accuracy: 0.6431 - val_loss: 0.5692 - val_accuracy: 0.8990\n",
      "Epoch 28/1000\n"
     ]
    },
    {
     "name": "stdout",
     "output_type": "stream",
     "text": [
      "19/35 [===============>..............] - ETA: 0s - loss: 0.9224 - accuracy: 0.6435\n",
      "Epoch 28: saving model to model/keypoint_classifier\\keypoint_classifier.hdf5\n",
      "35/35 [==============================] - 0s 6ms/step - loss: 0.9193 - accuracy: 0.6434 - val_loss: 0.5493 - val_accuracy: 0.9017\n",
      "Epoch 29/1000\n",
      "18/35 [==============>...............] - ETA: 0s - loss: 0.9039 - accuracy: 0.6484\n",
      "Epoch 29: saving model to model/keypoint_classifier\\keypoint_classifier.hdf5\n",
      "35/35 [==============================] - 0s 6ms/step - loss: 0.9154 - accuracy: 0.6425 - val_loss: 0.5402 - val_accuracy: 0.9051\n",
      "Epoch 30/1000\n",
      "34/35 [============================>.] - ETA: 0s - loss: 0.9000 - accuracy: 0.6549\n",
      "Epoch 30: saving model to model/keypoint_classifier\\keypoint_classifier.hdf5\n",
      "35/35 [==============================] - 0s 6ms/step - loss: 0.8995 - accuracy: 0.6550 - val_loss: 0.5315 - val_accuracy: 0.9017\n",
      "Epoch 31/1000\n",
      "18/35 [==============>...............] - ETA: 0s - loss: 0.8816 - accuracy: 0.6589\n",
      "Epoch 31: saving model to model/keypoint_classifier\\keypoint_classifier.hdf5\n",
      "35/35 [==============================] - 0s 6ms/step - loss: 0.8808 - accuracy: 0.6627 - val_loss: 0.5191 - val_accuracy: 0.9058\n",
      "Epoch 32/1000\n",
      "20/35 [================>.............] - ETA: 0s - loss: 0.9068 - accuracy: 0.6617\n",
      "Epoch 32: saving model to model/keypoint_classifier\\keypoint_classifier.hdf5\n",
      "35/35 [==============================] - 0s 6ms/step - loss: 0.8909 - accuracy: 0.6636 - val_loss: 0.5107 - val_accuracy: 0.9065\n",
      "Epoch 33/1000\n",
      "19/35 [===============>..............] - ETA: 0s - loss: 0.8729 - accuracy: 0.6669\n",
      "Epoch 33: saving model to model/keypoint_classifier\\keypoint_classifier.hdf5\n",
      "35/35 [==============================] - 0s 6ms/step - loss: 0.8745 - accuracy: 0.6670 - val_loss: 0.5065 - val_accuracy: 0.9003\n",
      "Epoch 34/1000\n",
      "19/35 [===============>..............] - ETA: 0s - loss: 0.8600 - accuracy: 0.6686\n",
      "Epoch 34: saving model to model/keypoint_classifier\\keypoint_classifier.hdf5\n",
      "35/35 [==============================] - 0s 6ms/step - loss: 0.8576 - accuracy: 0.6736 - val_loss: 0.4950 - val_accuracy: 0.9072\n",
      "Epoch 35/1000\n",
      "18/35 [==============>...............] - ETA: 0s - loss: 0.8455 - accuracy: 0.6875\n",
      "Epoch 35: saving model to model/keypoint_classifier\\keypoint_classifier.hdf5\n",
      "35/35 [==============================] - 0s 6ms/step - loss: 0.8669 - accuracy: 0.6705 - val_loss: 0.4893 - val_accuracy: 0.9119\n",
      "Epoch 36/1000\n",
      "19/35 [===============>..............] - ETA: 0s - loss: 0.8553 - accuracy: 0.6817\n",
      "Epoch 36: saving model to model/keypoint_classifier\\keypoint_classifier.hdf5\n",
      "35/35 [==============================] - 0s 6ms/step - loss: 0.8538 - accuracy: 0.6766 - val_loss: 0.4839 - val_accuracy: 0.9181\n",
      "Epoch 37/1000\n",
      "27/35 [======================>.......] - ETA: 0s - loss: 0.8727 - accuracy: 0.6655\n",
      "Epoch 37: saving model to model/keypoint_classifier\\keypoint_classifier.hdf5\n",
      "35/35 [==============================] - 0s 4ms/step - loss: 0.8685 - accuracy: 0.6700 - val_loss: 0.4790 - val_accuracy: 0.9167\n",
      "Epoch 38/1000\n",
      "19/35 [===============>..............] - ETA: 0s - loss: 0.8587 - accuracy: 0.6731\n",
      "Epoch 38: saving model to model/keypoint_classifier\\keypoint_classifier.hdf5\n",
      "35/35 [==============================] - 0s 6ms/step - loss: 0.8382 - accuracy: 0.6830 - val_loss: 0.4788 - val_accuracy: 0.9133\n",
      "Epoch 39/1000\n",
      "20/35 [================>.............] - ETA: 0s - loss: 0.8339 - accuracy: 0.6781\n",
      "Epoch 39: saving model to model/keypoint_classifier\\keypoint_classifier.hdf5\n",
      "35/35 [==============================] - 0s 5ms/step - loss: 0.8374 - accuracy: 0.6791 - val_loss: 0.4677 - val_accuracy: 0.9119\n",
      "Epoch 40/1000\n",
      "24/35 [===================>..........] - ETA: 0s - loss: 0.8197 - accuracy: 0.6888\n",
      "Epoch 40: saving model to model/keypoint_classifier\\keypoint_classifier.hdf5\n",
      "35/35 [==============================] - 0s 6ms/step - loss: 0.8217 - accuracy: 0.6868 - val_loss: 0.4541 - val_accuracy: 0.9174\n",
      "Epoch 41/1000\n",
      "18/35 [==============>...............] - ETA: 0s - loss: 0.8462 - accuracy: 0.6853\n",
      "Epoch 41: saving model to model/keypoint_classifier\\keypoint_classifier.hdf5\n",
      "35/35 [==============================] - 0s 5ms/step - loss: 0.8427 - accuracy: 0.6893 - val_loss: 0.4559 - val_accuracy: 0.9174\n",
      "Epoch 42/1000\n",
      "18/35 [==============>...............] - ETA: 0s - loss: 0.8058 - accuracy: 0.6914\n",
      "Epoch 42: saving model to model/keypoint_classifier\\keypoint_classifier.hdf5\n",
      "35/35 [==============================] - 0s 6ms/step - loss: 0.8251 - accuracy: 0.6909 - val_loss: 0.4606 - val_accuracy: 0.9154\n",
      "Epoch 43/1000\n",
      "21/35 [=================>............] - ETA: 0s - loss: 0.8034 - accuracy: 0.6961\n",
      "Epoch 43: saving model to model/keypoint_classifier\\keypoint_classifier.hdf5\n",
      "35/35 [==============================] - 0s 5ms/step - loss: 0.8185 - accuracy: 0.6919 - val_loss: 0.4460 - val_accuracy: 0.9215\n",
      "Epoch 44/1000\n",
      "24/35 [===================>..........] - ETA: 0s - loss: 0.8386 - accuracy: 0.6862\n",
      "Epoch 44: saving model to model/keypoint_classifier\\keypoint_classifier.hdf5\n",
      "35/35 [==============================] - 0s 5ms/step - loss: 0.8330 - accuracy: 0.6900 - val_loss: 0.4422 - val_accuracy: 0.9229\n",
      "Epoch 45/1000\n",
      "20/35 [================>.............] - ETA: 0s - loss: 0.8342 - accuracy: 0.6820\n",
      "Epoch 45: saving model to model/keypoint_classifier\\keypoint_classifier.hdf5\n",
      "35/35 [==============================] - 0s 6ms/step - loss: 0.8197 - accuracy: 0.6903 - val_loss: 0.4410 - val_accuracy: 0.9188\n",
      "Epoch 46/1000\n",
      "34/35 [============================>.] - ETA: 0s - loss: 0.8216 - accuracy: 0.6944\n",
      "Epoch 46: saving model to model/keypoint_classifier\\keypoint_classifier.hdf5\n",
      "35/35 [==============================] - 0s 6ms/step - loss: 0.8235 - accuracy: 0.6934 - val_loss: 0.4359 - val_accuracy: 0.9222\n",
      "Epoch 47/1000\n",
      "21/35 [=================>............] - ETA: 0s - loss: 0.8075 - accuracy: 0.7016\n",
      "Epoch 47: saving model to model/keypoint_classifier\\keypoint_classifier.hdf5\n",
      "35/35 [==============================] - 0s 6ms/step - loss: 0.8050 - accuracy: 0.6982 - val_loss: 0.4321 - val_accuracy: 0.9195\n",
      "Epoch 48/1000\n",
      "20/35 [================>.............] - ETA: 0s - loss: 0.8254 - accuracy: 0.6953\n",
      "Epoch 48: saving model to model/keypoint_classifier\\keypoint_classifier.hdf5\n",
      "35/35 [==============================] - 0s 5ms/step - loss: 0.8255 - accuracy: 0.6939 - val_loss: 0.4307 - val_accuracy: 0.9256\n",
      "Epoch 49/1000\n",
      "24/35 [===================>..........] - ETA: 0s - loss: 0.7862 - accuracy: 0.7174\n",
      "Epoch 49: saving model to model/keypoint_classifier\\keypoint_classifier.hdf5\n",
      "35/35 [==============================] - 0s 5ms/step - loss: 0.8044 - accuracy: 0.7082 - val_loss: 0.4287 - val_accuracy: 0.9215\n",
      "Epoch 50/1000\n",
      "19/35 [===============>..............] - ETA: 0s - loss: 0.8107 - accuracy: 0.7011\n",
      "Epoch 50: saving model to model/keypoint_classifier\\keypoint_classifier.hdf5\n",
      "35/35 [==============================] - 0s 6ms/step - loss: 0.8062 - accuracy: 0.7021 - val_loss: 0.4242 - val_accuracy: 0.9256\n",
      "Epoch 51/1000\n",
      "20/35 [================>.............] - ETA: 0s - loss: 0.8131 - accuracy: 0.6949\n",
      "Epoch 51: saving model to model/keypoint_classifier\\keypoint_classifier.hdf5\n",
      "35/35 [==============================] - 0s 5ms/step - loss: 0.7956 - accuracy: 0.7051 - val_loss: 0.4223 - val_accuracy: 0.9201\n",
      "Epoch 52/1000\n",
      "19/35 [===============>..............] - ETA: 0s - loss: 0.8044 - accuracy: 0.7023\n",
      "Epoch 52: saving model to model/keypoint_classifier\\keypoint_classifier.hdf5\n",
      "35/35 [==============================] - 0s 6ms/step - loss: 0.7991 - accuracy: 0.7012 - val_loss: 0.4134 - val_accuracy: 0.9270\n",
      "Epoch 53/1000\n",
      "26/35 [=====================>........] - ETA: 0s - loss: 0.7975 - accuracy: 0.7052\n",
      "Epoch 53: saving model to model/keypoint_classifier\\keypoint_classifier.hdf5\n",
      "35/35 [==============================] - 0s 5ms/step - loss: 0.7982 - accuracy: 0.7057 - val_loss: 0.4150 - val_accuracy: 0.9235\n",
      "Epoch 54/1000\n",
      "22/35 [=================>............] - ETA: 0s - loss: 0.7877 - accuracy: 0.7124\n",
      "Epoch 54: saving model to model/keypoint_classifier\\keypoint_classifier.hdf5\n",
      "35/35 [==============================] - 0s 5ms/step - loss: 0.7878 - accuracy: 0.7132 - val_loss: 0.4074 - val_accuracy: 0.9317\n",
      "Epoch 55/1000\n"
     ]
    },
    {
     "name": "stdout",
     "output_type": "stream",
     "text": [
      "24/35 [===================>..........] - ETA: 0s - loss: 0.8024 - accuracy: 0.7044\n",
      "Epoch 55: saving model to model/keypoint_classifier\\keypoint_classifier.hdf5\n",
      "35/35 [==============================] - 0s 5ms/step - loss: 0.7751 - accuracy: 0.7110 - val_loss: 0.3998 - val_accuracy: 0.9290\n",
      "Epoch 56/1000\n",
      "33/35 [===========================>..] - ETA: 0s - loss: 0.7883 - accuracy: 0.7010\n",
      "Epoch 56: saving model to model/keypoint_classifier\\keypoint_classifier.hdf5\n",
      "35/35 [==============================] - 0s 6ms/step - loss: 0.7855 - accuracy: 0.7012 - val_loss: 0.4008 - val_accuracy: 0.9338\n",
      "Epoch 57/1000\n",
      "22/35 [=================>............] - ETA: 0s - loss: 0.7616 - accuracy: 0.7152\n",
      "Epoch 57: saving model to model/keypoint_classifier\\keypoint_classifier.hdf5\n",
      "35/35 [==============================] - 0s 5ms/step - loss: 0.7799 - accuracy: 0.7082 - val_loss: 0.3982 - val_accuracy: 0.9235\n",
      "Epoch 58/1000\n",
      "18/35 [==============>...............] - ETA: 0s - loss: 0.7891 - accuracy: 0.7118\n",
      "Epoch 58: saving model to model/keypoint_classifier\\keypoint_classifier.hdf5\n",
      "35/35 [==============================] - 0s 6ms/step - loss: 0.7790 - accuracy: 0.7076 - val_loss: 0.3960 - val_accuracy: 0.9304\n",
      "Epoch 59/1000\n",
      "19/35 [===============>..............] - ETA: 0s - loss: 0.7966 - accuracy: 0.7076\n",
      "Epoch 59: saving model to model/keypoint_classifier\\keypoint_classifier.hdf5\n",
      "35/35 [==============================] - 0s 6ms/step - loss: 0.7834 - accuracy: 0.7076 - val_loss: 0.3953 - val_accuracy: 0.9242\n",
      "Epoch 60/1000\n",
      "19/35 [===============>..............] - ETA: 0s - loss: 0.7918 - accuracy: 0.6928\n",
      "Epoch 60: saving model to model/keypoint_classifier\\keypoint_classifier.hdf5\n",
      "35/35 [==============================] - 0s 6ms/step - loss: 0.7817 - accuracy: 0.7060 - val_loss: 0.3950 - val_accuracy: 0.9290\n",
      "Epoch 61/1000\n",
      "23/35 [==================>...........] - ETA: 0s - loss: 0.7670 - accuracy: 0.7177\n",
      "Epoch 61: saving model to model/keypoint_classifier\\keypoint_classifier.hdf5\n",
      "35/35 [==============================] - 0s 6ms/step - loss: 0.7674 - accuracy: 0.7196 - val_loss: 0.3926 - val_accuracy: 0.9297\n",
      "Epoch 62/1000\n",
      "20/35 [================>.............] - ETA: 0s - loss: 0.7770 - accuracy: 0.7180\n",
      "Epoch 62: saving model to model/keypoint_classifier\\keypoint_classifier.hdf5\n",
      "35/35 [==============================] - 0s 5ms/step - loss: 0.7805 - accuracy: 0.7148 - val_loss: 0.3893 - val_accuracy: 0.9358\n",
      "Epoch 63/1000\n",
      "16/35 [============>.................] - ETA: 0s - loss: 0.7415 - accuracy: 0.7192\n",
      "Epoch 63: saving model to model/keypoint_classifier\\keypoint_classifier.hdf5\n",
      "35/35 [==============================] - 0s 6ms/step - loss: 0.7565 - accuracy: 0.7198 - val_loss: 0.3818 - val_accuracy: 0.9317\n",
      "Epoch 64/1000\n",
      "19/35 [===============>..............] - ETA: 0s - loss: 0.7936 - accuracy: 0.7072\n",
      "Epoch 64: saving model to model/keypoint_classifier\\keypoint_classifier.hdf5\n",
      "35/35 [==============================] - 0s 6ms/step - loss: 0.7837 - accuracy: 0.7123 - val_loss: 0.3890 - val_accuracy: 0.9304\n",
      "Epoch 65/1000\n",
      "19/35 [===============>..............] - ETA: 0s - loss: 0.7560 - accuracy: 0.7220\n",
      "Epoch 65: saving model to model/keypoint_classifier\\keypoint_classifier.hdf5\n",
      "35/35 [==============================] - 0s 6ms/step - loss: 0.7590 - accuracy: 0.7203 - val_loss: 0.3876 - val_accuracy: 0.9304\n",
      "Epoch 66/1000\n",
      "18/35 [==============>...............] - ETA: 0s - loss: 0.7671 - accuracy: 0.7214\n",
      "Epoch 66: saving model to model/keypoint_classifier\\keypoint_classifier.hdf5\n",
      "35/35 [==============================] - 0s 6ms/step - loss: 0.7704 - accuracy: 0.7112 - val_loss: 0.3898 - val_accuracy: 0.9283\n",
      "Epoch 67/1000\n",
      "18/35 [==============>...............] - ETA: 0s - loss: 0.7501 - accuracy: 0.7144\n",
      "Epoch 67: saving model to model/keypoint_classifier\\keypoint_classifier.hdf5\n",
      "35/35 [==============================] - 0s 5ms/step - loss: 0.7554 - accuracy: 0.7194 - val_loss: 0.3784 - val_accuracy: 0.9276\n",
      "Epoch 68/1000\n",
      "26/35 [=====================>........] - ETA: 0s - loss: 0.7698 - accuracy: 0.7236\n",
      "Epoch 68: saving model to model/keypoint_classifier\\keypoint_classifier.hdf5\n",
      "35/35 [==============================] - 0s 5ms/step - loss: 0.7755 - accuracy: 0.7233 - val_loss: 0.3757 - val_accuracy: 0.9249\n",
      "Epoch 69/1000\n",
      "21/35 [=================>............] - ETA: 0s - loss: 0.7563 - accuracy: 0.7098\n",
      "Epoch 69: saving model to model/keypoint_classifier\\keypoint_classifier.hdf5\n",
      "35/35 [==============================] - 0s 5ms/step - loss: 0.7578 - accuracy: 0.7219 - val_loss: 0.3774 - val_accuracy: 0.9276\n",
      "Epoch 70/1000\n",
      "20/35 [================>.............] - ETA: 0s - loss: 0.7398 - accuracy: 0.7270\n",
      "Epoch 70: saving model to model/keypoint_classifier\\keypoint_classifier.hdf5\n",
      "35/35 [==============================] - 0s 6ms/step - loss: 0.7455 - accuracy: 0.7235 - val_loss: 0.3759 - val_accuracy: 0.9290\n",
      "Epoch 71/1000\n",
      "20/35 [================>.............] - ETA: 0s - loss: 0.7582 - accuracy: 0.7129\n",
      "Epoch 71: saving model to model/keypoint_classifier\\keypoint_classifier.hdf5\n",
      "35/35 [==============================] - 0s 6ms/step - loss: 0.7525 - accuracy: 0.7157 - val_loss: 0.3723 - val_accuracy: 0.9324\n",
      "Epoch 72/1000\n",
      "18/35 [==============>...............] - ETA: 0s - loss: 0.7645 - accuracy: 0.7183\n",
      "Epoch 72: saving model to model/keypoint_classifier\\keypoint_classifier.hdf5\n",
      "35/35 [==============================] - 0s 6ms/step - loss: 0.7540 - accuracy: 0.7226 - val_loss: 0.3695 - val_accuracy: 0.9290\n",
      "Epoch 73/1000\n",
      "35/35 [==============================] - ETA: 0s - loss: 0.7494 - accuracy: 0.7262\n",
      "Epoch 73: saving model to model/keypoint_classifier\\keypoint_classifier.hdf5\n",
      "35/35 [==============================] - 0s 6ms/step - loss: 0.7494 - accuracy: 0.7262 - val_loss: 0.3654 - val_accuracy: 0.9283\n",
      "Epoch 74/1000\n",
      "18/35 [==============>...............] - ETA: 0s - loss: 0.7522 - accuracy: 0.7222\n",
      "Epoch 74: saving model to model/keypoint_classifier\\keypoint_classifier.hdf5\n",
      "35/35 [==============================] - 0s 6ms/step - loss: 0.7468 - accuracy: 0.7258 - val_loss: 0.3665 - val_accuracy: 0.9297\n",
      "Epoch 75/1000\n",
      "35/35 [==============================] - ETA: 0s - loss: 0.7446 - accuracy: 0.7292\n",
      "Epoch 75: saving model to model/keypoint_classifier\\keypoint_classifier.hdf5\n",
      "35/35 [==============================] - 0s 5ms/step - loss: 0.7446 - accuracy: 0.7292 - val_loss: 0.3653 - val_accuracy: 0.9297\n",
      "Epoch 76/1000\n",
      "26/35 [=====================>........] - ETA: 0s - loss: 0.7546 - accuracy: 0.7154\n",
      "Epoch 76: saving model to model/keypoint_classifier\\keypoint_classifier.hdf5\n",
      "35/35 [==============================] - 0s 4ms/step - loss: 0.7553 - accuracy: 0.7164 - val_loss: 0.3599 - val_accuracy: 0.9338\n",
      "Epoch 77/1000\n",
      "20/35 [================>.............] - ETA: 0s - loss: 0.7081 - accuracy: 0.7480\n",
      "Epoch 77: saving model to model/keypoint_classifier\\keypoint_classifier.hdf5\n",
      "35/35 [==============================] - 0s 5ms/step - loss: 0.7302 - accuracy: 0.7396 - val_loss: 0.3529 - val_accuracy: 0.9324\n",
      "Epoch 78/1000\n",
      "19/35 [===============>..............] - ETA: 0s - loss: 0.7606 - accuracy: 0.7220\n",
      "Epoch 78: saving model to model/keypoint_classifier\\keypoint_classifier.hdf5\n",
      "35/35 [==============================] - 0s 6ms/step - loss: 0.7485 - accuracy: 0.7221 - val_loss: 0.3515 - val_accuracy: 0.9358\n",
      "Epoch 79/1000\n",
      "26/35 [=====================>........] - ETA: 0s - loss: 0.7632 - accuracy: 0.7245\n",
      "Epoch 79: saving model to model/keypoint_classifier\\keypoint_classifier.hdf5\n",
      "35/35 [==============================] - 0s 5ms/step - loss: 0.7687 - accuracy: 0.7194 - val_loss: 0.3600 - val_accuracy: 0.9263\n",
      "Epoch 80/1000\n",
      "19/35 [===============>..............] - ETA: 0s - loss: 0.7411 - accuracy: 0.7253\n",
      "Epoch 80: saving model to model/keypoint_classifier\\keypoint_classifier.hdf5\n",
      "35/35 [==============================] - 0s 6ms/step - loss: 0.7488 - accuracy: 0.7276 - val_loss: 0.3627 - val_accuracy: 0.9345\n",
      "Epoch 81/1000\n",
      "19/35 [===============>..............] - ETA: 0s - loss: 0.7485 - accuracy: 0.7204\n",
      "Epoch 81: saving model to model/keypoint_classifier\\keypoint_classifier.hdf5\n",
      "35/35 [==============================] - 0s 6ms/step - loss: 0.7688 - accuracy: 0.7130 - val_loss: 0.3643 - val_accuracy: 0.9372\n",
      "Epoch 82/1000\n"
     ]
    },
    {
     "name": "stdout",
     "output_type": "stream",
     "text": [
      "22/35 [=================>............] - ETA: 0s - loss: 0.7331 - accuracy: 0.7262\n",
      "Epoch 82: saving model to model/keypoint_classifier\\keypoint_classifier.hdf5\n",
      "35/35 [==============================] - 0s 5ms/step - loss: 0.7314 - accuracy: 0.7278 - val_loss: 0.3589 - val_accuracy: 0.9372\n",
      "Epoch 83/1000\n",
      "20/35 [================>.............] - ETA: 0s - loss: 0.7076 - accuracy: 0.7391\n",
      "Epoch 83: saving model to model/keypoint_classifier\\keypoint_classifier.hdf5\n",
      "35/35 [==============================] - 0s 6ms/step - loss: 0.7165 - accuracy: 0.7387 - val_loss: 0.3445 - val_accuracy: 0.9290\n",
      "Epoch 84/1000\n",
      "20/35 [================>.............] - ETA: 0s - loss: 0.7626 - accuracy: 0.7203\n",
      "Epoch 84: saving model to model/keypoint_classifier\\keypoint_classifier.hdf5\n",
      "35/35 [==============================] - 0s 6ms/step - loss: 0.7392 - accuracy: 0.7326 - val_loss: 0.3522 - val_accuracy: 0.9311\n",
      "Epoch 85/1000\n",
      "19/35 [===============>..............] - ETA: 0s - loss: 0.7457 - accuracy: 0.7274\n",
      "Epoch 85: saving model to model/keypoint_classifier\\keypoint_classifier.hdf5\n",
      "35/35 [==============================] - 0s 6ms/step - loss: 0.7480 - accuracy: 0.7258 - val_loss: 0.3568 - val_accuracy: 0.9270\n",
      "Epoch 86/1000\n",
      "21/35 [=================>............] - ETA: 0s - loss: 0.7159 - accuracy: 0.7392\n",
      "Epoch 86: saving model to model/keypoint_classifier\\keypoint_classifier.hdf5\n",
      "35/35 [==============================] - 0s 5ms/step - loss: 0.7312 - accuracy: 0.7360 - val_loss: 0.3548 - val_accuracy: 0.9304\n",
      "Epoch 87/1000\n",
      "21/35 [=================>............] - ETA: 0s - loss: 0.7568 - accuracy: 0.7221\n",
      "Epoch 87: saving model to model/keypoint_classifier\\keypoint_classifier.hdf5\n",
      "35/35 [==============================] - 0s 6ms/step - loss: 0.7367 - accuracy: 0.7289 - val_loss: 0.3489 - val_accuracy: 0.9338\n",
      "Epoch 88/1000\n",
      "20/35 [================>.............] - ETA: 0s - loss: 0.7495 - accuracy: 0.7254\n",
      "Epoch 88: saving model to model/keypoint_classifier\\keypoint_classifier.hdf5\n",
      "35/35 [==============================] - 0s 5ms/step - loss: 0.7451 - accuracy: 0.7246 - val_loss: 0.3460 - val_accuracy: 0.9392\n",
      "Epoch 89/1000\n",
      "25/35 [====================>.........] - ETA: 0s - loss: 0.7111 - accuracy: 0.7406\n",
      "Epoch 89: saving model to model/keypoint_classifier\\keypoint_classifier.hdf5\n",
      "35/35 [==============================] - 0s 5ms/step - loss: 0.7215 - accuracy: 0.7396 - val_loss: 0.3372 - val_accuracy: 0.9427\n",
      "Epoch 90/1000\n",
      "23/35 [==================>...........] - ETA: 0s - loss: 0.7134 - accuracy: 0.7368\n",
      "Epoch 90: saving model to model/keypoint_classifier\\keypoint_classifier.hdf5\n",
      "35/35 [==============================] - 0s 4ms/step - loss: 0.7204 - accuracy: 0.7374 - val_loss: 0.3459 - val_accuracy: 0.9379\n",
      "Epoch 91/1000\n",
      "25/35 [====================>.........] - ETA: 0s - loss: 0.7547 - accuracy: 0.7247\n",
      "Epoch 91: saving model to model/keypoint_classifier\\keypoint_classifier.hdf5\n",
      "35/35 [==============================] - 0s 5ms/step - loss: 0.7509 - accuracy: 0.7269 - val_loss: 0.3562 - val_accuracy: 0.9365\n",
      "Epoch 92/1000\n",
      "22/35 [=================>............] - ETA: 0s - loss: 0.7436 - accuracy: 0.7390\n",
      "Epoch 92: saving model to model/keypoint_classifier\\keypoint_classifier.hdf5\n",
      "35/35 [==============================] - 0s 5ms/step - loss: 0.7431 - accuracy: 0.7315 - val_loss: 0.3556 - val_accuracy: 0.9345\n",
      "Epoch 93/1000\n",
      "23/35 [==================>...........] - ETA: 0s - loss: 0.7163 - accuracy: 0.7317\n",
      "Epoch 93: saving model to model/keypoint_classifier\\keypoint_classifier.hdf5\n",
      "35/35 [==============================] - 0s 6ms/step - loss: 0.7105 - accuracy: 0.7369 - val_loss: 0.3442 - val_accuracy: 0.9379\n",
      "Epoch 94/1000\n",
      "18/35 [==============>...............] - ETA: 0s - loss: 0.7181 - accuracy: 0.7413\n",
      "Epoch 94: saving model to model/keypoint_classifier\\keypoint_classifier.hdf5\n",
      "35/35 [==============================] - 0s 6ms/step - loss: 0.7148 - accuracy: 0.7394 - val_loss: 0.3430 - val_accuracy: 0.9358\n",
      "Epoch 95/1000\n",
      "35/35 [==============================] - ETA: 0s - loss: 0.7370 - accuracy: 0.7342\n",
      "Epoch 95: saving model to model/keypoint_classifier\\keypoint_classifier.hdf5\n",
      "35/35 [==============================] - 0s 6ms/step - loss: 0.7370 - accuracy: 0.7342 - val_loss: 0.3472 - val_accuracy: 0.9338\n",
      "Epoch 96/1000\n",
      "34/35 [============================>.] - ETA: 0s - loss: 0.7361 - accuracy: 0.7233\n",
      "Epoch 96: saving model to model/keypoint_classifier\\keypoint_classifier.hdf5\n",
      "35/35 [==============================] - 0s 6ms/step - loss: 0.7346 - accuracy: 0.7239 - val_loss: 0.3445 - val_accuracy: 0.9317\n",
      "Epoch 97/1000\n",
      "19/35 [===============>..............] - ETA: 0s - loss: 0.7295 - accuracy: 0.7278\n",
      "Epoch 97: saving model to model/keypoint_classifier\\keypoint_classifier.hdf5\n",
      "35/35 [==============================] - 0s 6ms/step - loss: 0.7260 - accuracy: 0.7315 - val_loss: 0.3465 - val_accuracy: 0.9386\n",
      "Epoch 98/1000\n",
      "28/35 [=======================>......] - ETA: 0s - loss: 0.7406 - accuracy: 0.7377\n",
      "Epoch 98: saving model to model/keypoint_classifier\\keypoint_classifier.hdf5\n",
      "35/35 [==============================] - 0s 4ms/step - loss: 0.7380 - accuracy: 0.7383 - val_loss: 0.3468 - val_accuracy: 0.9358\n",
      "Epoch 99/1000\n",
      "33/35 [===========================>..] - ETA: 0s - loss: 0.7240 - accuracy: 0.7403\n",
      "Epoch 99: saving model to model/keypoint_classifier\\keypoint_classifier.hdf5\n",
      "35/35 [==============================] - 0s 6ms/step - loss: 0.7235 - accuracy: 0.7401 - val_loss: 0.3359 - val_accuracy: 0.9379\n",
      "Epoch 100/1000\n",
      "35/35 [==============================] - ETA: 0s - loss: 0.7191 - accuracy: 0.7376\n",
      "Epoch 100: saving model to model/keypoint_classifier\\keypoint_classifier.hdf5\n",
      "35/35 [==============================] - 0s 6ms/step - loss: 0.7191 - accuracy: 0.7376 - val_loss: 0.3339 - val_accuracy: 0.9372\n",
      "Epoch 101/1000\n",
      "34/35 [============================>.] - ETA: 0s - loss: 0.7017 - accuracy: 0.7403\n",
      "Epoch 101: saving model to model/keypoint_classifier\\keypoint_classifier.hdf5\n",
      "35/35 [==============================] - 0s 6ms/step - loss: 0.7018 - accuracy: 0.7408 - val_loss: 0.3272 - val_accuracy: 0.9399\n",
      "Epoch 102/1000\n",
      "17/35 [=============>................] - ETA: 0s - loss: 0.7411 - accuracy: 0.7312\n",
      "Epoch 102: saving model to model/keypoint_classifier\\keypoint_classifier.hdf5\n",
      "35/35 [==============================] - 0s 6ms/step - loss: 0.7246 - accuracy: 0.7360 - val_loss: 0.3406 - val_accuracy: 0.9392\n",
      "Epoch 103/1000\n",
      "18/35 [==============>...............] - ETA: 0s - loss: 0.7177 - accuracy: 0.7418\n",
      "Epoch 103: saving model to model/keypoint_classifier\\keypoint_classifier.hdf5\n",
      "35/35 [==============================] - 0s 6ms/step - loss: 0.7092 - accuracy: 0.7406 - val_loss: 0.3408 - val_accuracy: 0.9392\n",
      "Epoch 104/1000\n",
      "21/35 [=================>............] - ETA: 0s - loss: 0.7227 - accuracy: 0.7366\n",
      "Epoch 104: saving model to model/keypoint_classifier\\keypoint_classifier.hdf5\n",
      "35/35 [==============================] - 0s 5ms/step - loss: 0.7147 - accuracy: 0.7403 - val_loss: 0.3366 - val_accuracy: 0.9365\n",
      "Epoch 105/1000\n",
      "19/35 [===============>..............] - ETA: 0s - loss: 0.7211 - accuracy: 0.7381\n",
      "Epoch 105: saving model to model/keypoint_classifier\\keypoint_classifier.hdf5\n",
      "35/35 [==============================] - 0s 6ms/step - loss: 0.7248 - accuracy: 0.7362 - val_loss: 0.3375 - val_accuracy: 0.9399\n",
      "Epoch 106/1000\n",
      "20/35 [================>.............] - ETA: 0s - loss: 0.7077 - accuracy: 0.7414\n",
      "Epoch 106: saving model to model/keypoint_classifier\\keypoint_classifier.hdf5\n",
      "35/35 [==============================] - 0s 6ms/step - loss: 0.7171 - accuracy: 0.7396 - val_loss: 0.3347 - val_accuracy: 0.9352\n",
      "Epoch 107/1000\n",
      "19/35 [===============>..............] - ETA: 0s - loss: 0.7015 - accuracy: 0.7488\n",
      "Epoch 107: saving model to model/keypoint_classifier\\keypoint_classifier.hdf5\n",
      "35/35 [==============================] - 0s 5ms/step - loss: 0.7191 - accuracy: 0.7412 - val_loss: 0.3385 - val_accuracy: 0.9392\n",
      "Epoch 108/1000\n",
      "21/35 [=================>............] - ETA: 0s - loss: 0.7065 - accuracy: 0.7411\n",
      "Epoch 108: saving model to model/keypoint_classifier\\keypoint_classifier.hdf5\n",
      "35/35 [==============================] - 0s 5ms/step - loss: 0.7299 - accuracy: 0.7337 - val_loss: 0.3442 - val_accuracy: 0.9392\n",
      "Epoch 109/1000\n"
     ]
    },
    {
     "name": "stdout",
     "output_type": "stream",
     "text": [
      "22/35 [=================>............] - ETA: 0s - loss: 0.7272 - accuracy: 0.7262\n",
      "Epoch 109: saving model to model/keypoint_classifier\\keypoint_classifier.hdf5\n",
      "35/35 [==============================] - 0s 4ms/step - loss: 0.7076 - accuracy: 0.7387 - val_loss: 0.3340 - val_accuracy: 0.9338\n",
      "Epoch 110/1000\n",
      "22/35 [=================>............] - ETA: 0s - loss: 0.7092 - accuracy: 0.7436\n",
      "Epoch 110: saving model to model/keypoint_classifier\\keypoint_classifier.hdf5\n",
      "35/35 [==============================] - 0s 4ms/step - loss: 0.7110 - accuracy: 0.7447 - val_loss: 0.3272 - val_accuracy: 0.9372\n",
      "Epoch 111/1000\n",
      "19/35 [===============>..............] - ETA: 0s - loss: 0.7053 - accuracy: 0.7467\n",
      "Epoch 111: saving model to model/keypoint_classifier\\keypoint_classifier.hdf5\n",
      "35/35 [==============================] - 0s 6ms/step - loss: 0.7007 - accuracy: 0.7483 - val_loss: 0.3276 - val_accuracy: 0.9372\n",
      "Epoch 112/1000\n",
      "35/35 [==============================] - ETA: 0s - loss: 0.7009 - accuracy: 0.7401\n",
      "Epoch 112: saving model to model/keypoint_classifier\\keypoint_classifier.hdf5\n",
      "35/35 [==============================] - 0s 6ms/step - loss: 0.7009 - accuracy: 0.7401 - val_loss: 0.3288 - val_accuracy: 0.9433\n",
      "Epoch 113/1000\n",
      "29/35 [=======================>......] - ETA: 0s - loss: 0.6895 - accuracy: 0.7492\n",
      "Epoch 113: saving model to model/keypoint_classifier\\keypoint_classifier.hdf5\n",
      "35/35 [==============================] - 0s 5ms/step - loss: 0.6944 - accuracy: 0.7483 - val_loss: 0.3267 - val_accuracy: 0.9413\n",
      "Epoch 114/1000\n",
      "19/35 [===============>..............] - ETA: 0s - loss: 0.6822 - accuracy: 0.7488\n",
      "Epoch 114: saving model to model/keypoint_classifier\\keypoint_classifier.hdf5\n",
      "35/35 [==============================] - 0s 6ms/step - loss: 0.7037 - accuracy: 0.7415 - val_loss: 0.3270 - val_accuracy: 0.9365\n",
      "Epoch 115/1000\n",
      "17/35 [=============>................] - ETA: 0s - loss: 0.7308 - accuracy: 0.7330\n",
      "Epoch 115: saving model to model/keypoint_classifier\\keypoint_classifier.hdf5\n",
      "35/35 [==============================] - 0s 6ms/step - loss: 0.7163 - accuracy: 0.7346 - val_loss: 0.3303 - val_accuracy: 0.9379\n",
      "Epoch 116/1000\n",
      "35/35 [==============================] - ETA: 0s - loss: 0.7019 - accuracy: 0.7492\n",
      "Epoch 116: saving model to model/keypoint_classifier\\keypoint_classifier.hdf5\n",
      "35/35 [==============================] - 0s 6ms/step - loss: 0.7019 - accuracy: 0.7492 - val_loss: 0.3279 - val_accuracy: 0.9372\n",
      "Epoch 117/1000\n",
      "19/35 [===============>..............] - ETA: 0s - loss: 0.6927 - accuracy: 0.7590\n",
      "Epoch 117: saving model to model/keypoint_classifier\\keypoint_classifier.hdf5\n",
      "35/35 [==============================] - 0s 5ms/step - loss: 0.7046 - accuracy: 0.7508 - val_loss: 0.3258 - val_accuracy: 0.9440\n",
      "Epoch 118/1000\n",
      "34/35 [============================>.] - ETA: 0s - loss: 0.7256 - accuracy: 0.7360\n",
      "Epoch 118: saving model to model/keypoint_classifier\\keypoint_classifier.hdf5\n",
      "35/35 [==============================] - 0s 6ms/step - loss: 0.7277 - accuracy: 0.7351 - val_loss: 0.3316 - val_accuracy: 0.9392\n",
      "Epoch 119/1000\n",
      "34/35 [============================>.] - ETA: 0s - loss: 0.7172 - accuracy: 0.7410\n",
      "Epoch 119: saving model to model/keypoint_classifier\\keypoint_classifier.hdf5\n",
      "35/35 [==============================] - 0s 6ms/step - loss: 0.7189 - accuracy: 0.7396 - val_loss: 0.3314 - val_accuracy: 0.9331\n",
      "Epoch 120/1000\n",
      "18/35 [==============>...............] - ETA: 0s - loss: 0.6885 - accuracy: 0.7617\n",
      "Epoch 120: saving model to model/keypoint_classifier\\keypoint_classifier.hdf5\n",
      "35/35 [==============================] - 0s 6ms/step - loss: 0.7098 - accuracy: 0.7542 - val_loss: 0.3317 - val_accuracy: 0.9372\n",
      "Epoch 121/1000\n",
      "20/35 [================>.............] - ETA: 0s - loss: 0.6875 - accuracy: 0.7488\n",
      "Epoch 121: saving model to model/keypoint_classifier\\keypoint_classifier.hdf5\n",
      "35/35 [==============================] - 0s 6ms/step - loss: 0.6974 - accuracy: 0.7444 - val_loss: 0.3275 - val_accuracy: 0.9386\n",
      "Epoch 122/1000\n",
      "19/35 [===============>..............] - ETA: 0s - loss: 0.6742 - accuracy: 0.7595\n",
      "Epoch 122: saving model to model/keypoint_classifier\\keypoint_classifier.hdf5\n",
      "35/35 [==============================] - 0s 5ms/step - loss: 0.6876 - accuracy: 0.7515 - val_loss: 0.3276 - val_accuracy: 0.9420\n",
      "Epoch 123/1000\n",
      "19/35 [===============>..............] - ETA: 0s - loss: 0.6881 - accuracy: 0.7492\n",
      "Epoch 123: saving model to model/keypoint_classifier\\keypoint_classifier.hdf5\n",
      "35/35 [==============================] - 0s 5ms/step - loss: 0.6899 - accuracy: 0.7472 - val_loss: 0.3214 - val_accuracy: 0.9372\n",
      "Epoch 124/1000\n",
      "22/35 [=================>............] - ETA: 0s - loss: 0.7105 - accuracy: 0.7369\n",
      "Epoch 124: saving model to model/keypoint_classifier\\keypoint_classifier.hdf5\n",
      "35/35 [==============================] - 0s 5ms/step - loss: 0.7071 - accuracy: 0.7351 - val_loss: 0.3210 - val_accuracy: 0.9406\n",
      "Epoch 125/1000\n",
      "24/35 [===================>..........] - ETA: 0s - loss: 0.6844 - accuracy: 0.7572\n",
      "Epoch 125: saving model to model/keypoint_classifier\\keypoint_classifier.hdf5\n",
      "35/35 [==============================] - 0s 5ms/step - loss: 0.6893 - accuracy: 0.7506 - val_loss: 0.3194 - val_accuracy: 0.9379\n",
      "Epoch 126/1000\n",
      "35/35 [==============================] - ETA: 0s - loss: 0.7057 - accuracy: 0.7440\n",
      "Epoch 126: saving model to model/keypoint_classifier\\keypoint_classifier.hdf5\n",
      "35/35 [==============================] - 0s 6ms/step - loss: 0.7057 - accuracy: 0.7440 - val_loss: 0.3218 - val_accuracy: 0.9406\n",
      "Epoch 127/1000\n",
      "34/35 [============================>.] - ETA: 0s - loss: 0.6820 - accuracy: 0.7486\n",
      "Epoch 127: saving model to model/keypoint_classifier\\keypoint_classifier.hdf5\n",
      "35/35 [==============================] - 0s 6ms/step - loss: 0.6825 - accuracy: 0.7481 - val_loss: 0.3210 - val_accuracy: 0.9406\n",
      "Epoch 128/1000\n",
      "23/35 [==================>...........] - ETA: 0s - loss: 0.7267 - accuracy: 0.7368\n",
      "Epoch 128: saving model to model/keypoint_classifier\\keypoint_classifier.hdf5\n",
      "35/35 [==============================] - 0s 5ms/step - loss: 0.7195 - accuracy: 0.7408 - val_loss: 0.3375 - val_accuracy: 0.9317\n",
      "Epoch 129/1000\n",
      "21/35 [=================>............] - ETA: 0s - loss: 0.7237 - accuracy: 0.7396\n",
      "Epoch 129: saving model to model/keypoint_classifier\\keypoint_classifier.hdf5\n",
      "35/35 [==============================] - 0s 5ms/step - loss: 0.7160 - accuracy: 0.7394 - val_loss: 0.3324 - val_accuracy: 0.9372\n",
      "Epoch 130/1000\n",
      "20/35 [================>.............] - ETA: 0s - loss: 0.6875 - accuracy: 0.7477\n",
      "Epoch 130: saving model to model/keypoint_classifier\\keypoint_classifier.hdf5\n",
      "35/35 [==============================] - 0s 6ms/step - loss: 0.7003 - accuracy: 0.7458 - val_loss: 0.3248 - val_accuracy: 0.9420\n",
      "Epoch 131/1000\n",
      "22/35 [=================>............] - ETA: 0s - loss: 0.7083 - accuracy: 0.7504\n",
      "Epoch 131: saving model to model/keypoint_classifier\\keypoint_classifier.hdf5\n",
      "35/35 [==============================] - 0s 5ms/step - loss: 0.7162 - accuracy: 0.7433 - val_loss: 0.3247 - val_accuracy: 0.9379\n",
      "Epoch 132/1000\n",
      "35/35 [==============================] - ETA: 0s - loss: 0.6899 - accuracy: 0.7510\n",
      "Epoch 132: saving model to model/keypoint_classifier\\keypoint_classifier.hdf5\n",
      "35/35 [==============================] - 0s 6ms/step - loss: 0.6899 - accuracy: 0.7510 - val_loss: 0.3194 - val_accuracy: 0.9474\n",
      "Epoch 133/1000\n",
      "20/35 [================>.............] - ETA: 0s - loss: 0.7030 - accuracy: 0.7621\n",
      "Epoch 133: saving model to model/keypoint_classifier\\keypoint_classifier.hdf5\n",
      "35/35 [==============================] - 0s 6ms/step - loss: 0.7058 - accuracy: 0.7583 - val_loss: 0.3211 - val_accuracy: 0.9454\n",
      "Epoch 134/1000\n",
      "17/35 [=============>................] - ETA: 0s - loss: 0.6983 - accuracy: 0.7325\n",
      "Epoch 134: saving model to model/keypoint_classifier\\keypoint_classifier.hdf5\n",
      "35/35 [==============================] - 0s 5ms/step - loss: 0.7092 - accuracy: 0.7383 - val_loss: 0.3296 - val_accuracy: 0.9413\n",
      "Epoch 135/1000\n",
      "14/35 [===========>..................] - ETA: 0s - loss: 0.6937 - accuracy: 0.7517\n",
      "Epoch 135: saving model to model/keypoint_classifier\\keypoint_classifier.hdf5\n",
      "35/35 [==============================] - 0s 6ms/step - loss: 0.7057 - accuracy: 0.7494 - val_loss: 0.3273 - val_accuracy: 0.9440\n"
     ]
    },
    {
     "name": "stdout",
     "output_type": "stream",
     "text": [
      "Epoch 136/1000\n",
      "23/35 [==================>...........] - ETA: 0s - loss: 0.7000 - accuracy: 0.7422\n",
      "Epoch 136: saving model to model/keypoint_classifier\\keypoint_classifier.hdf5\n",
      "35/35 [==============================] - 0s 5ms/step - loss: 0.6879 - accuracy: 0.7458 - val_loss: 0.3185 - val_accuracy: 0.9515\n",
      "Epoch 137/1000\n",
      "19/35 [===============>..............] - ETA: 0s - loss: 0.7036 - accuracy: 0.7488\n",
      "Epoch 137: saving model to model/keypoint_classifier\\keypoint_classifier.hdf5\n",
      "35/35 [==============================] - 0s 6ms/step - loss: 0.7020 - accuracy: 0.7501 - val_loss: 0.3243 - val_accuracy: 0.9413\n",
      "Epoch 138/1000\n",
      "21/35 [=================>............] - ETA: 0s - loss: 0.6845 - accuracy: 0.7522\n",
      "Epoch 138: saving model to model/keypoint_classifier\\keypoint_classifier.hdf5\n",
      "35/35 [==============================] - 0s 5ms/step - loss: 0.6937 - accuracy: 0.7474 - val_loss: 0.3189 - val_accuracy: 0.9447\n",
      "Epoch 139/1000\n",
      "19/35 [===============>..............] - ETA: 0s - loss: 0.7020 - accuracy: 0.7447\n",
      "Epoch 139: saving model to model/keypoint_classifier\\keypoint_classifier.hdf5\n",
      "35/35 [==============================] - 0s 6ms/step - loss: 0.7050 - accuracy: 0.7401 - val_loss: 0.3249 - val_accuracy: 0.9474\n",
      "Epoch 140/1000\n",
      "23/35 [==================>...........] - ETA: 0s - loss: 0.6936 - accuracy: 0.7469\n",
      "Epoch 140: saving model to model/keypoint_classifier\\keypoint_classifier.hdf5\n",
      "35/35 [==============================] - 0s 6ms/step - loss: 0.7020 - accuracy: 0.7460 - val_loss: 0.3211 - val_accuracy: 0.9365\n",
      "Epoch 141/1000\n",
      "20/35 [================>.............] - ETA: 0s - loss: 0.7087 - accuracy: 0.7430\n",
      "Epoch 141: saving model to model/keypoint_classifier\\keypoint_classifier.hdf5\n",
      "35/35 [==============================] - 0s 6ms/step - loss: 0.7008 - accuracy: 0.7487 - val_loss: 0.3260 - val_accuracy: 0.9365\n",
      "Epoch 142/1000\n",
      "20/35 [================>.............] - ETA: 0s - loss: 0.6547 - accuracy: 0.7535\n",
      "Epoch 142: saving model to model/keypoint_classifier\\keypoint_classifier.hdf5\n",
      "35/35 [==============================] - 0s 6ms/step - loss: 0.6618 - accuracy: 0.7579 - val_loss: 0.3149 - val_accuracy: 0.9427\n",
      "Epoch 143/1000\n",
      "25/35 [====================>.........] - ETA: 0s - loss: 0.7008 - accuracy: 0.7528\n",
      "Epoch 143: saving model to model/keypoint_classifier\\keypoint_classifier.hdf5\n",
      "35/35 [==============================] - 0s 5ms/step - loss: 0.6948 - accuracy: 0.7519 - val_loss: 0.3139 - val_accuracy: 0.9413\n",
      "Epoch 144/1000\n",
      "20/35 [================>.............] - ETA: 0s - loss: 0.6890 - accuracy: 0.7563\n",
      "Epoch 144: saving model to model/keypoint_classifier\\keypoint_classifier.hdf5\n",
      "35/35 [==============================] - 0s 5ms/step - loss: 0.6926 - accuracy: 0.7517 - val_loss: 0.3211 - val_accuracy: 0.9488\n",
      "Epoch 145/1000\n",
      "25/35 [====================>.........] - ETA: 0s - loss: 0.7003 - accuracy: 0.7603\n",
      "Epoch 145: saving model to model/keypoint_classifier\\keypoint_classifier.hdf5\n",
      "35/35 [==============================] - 0s 4ms/step - loss: 0.7033 - accuracy: 0.7560 - val_loss: 0.3259 - val_accuracy: 0.9413\n",
      "Epoch 146/1000\n",
      "19/35 [===============>..............] - ETA: 0s - loss: 0.6888 - accuracy: 0.7508\n",
      "Epoch 146: saving model to model/keypoint_classifier\\keypoint_classifier.hdf5\n",
      "35/35 [==============================] - 0s 6ms/step - loss: 0.6695 - accuracy: 0.7601 - val_loss: 0.3118 - val_accuracy: 0.9488\n",
      "Epoch 147/1000\n",
      "34/35 [============================>.] - ETA: 0s - loss: 0.6882 - accuracy: 0.7541\n",
      "Epoch 147: saving model to model/keypoint_classifier\\keypoint_classifier.hdf5\n",
      "35/35 [==============================] - 0s 6ms/step - loss: 0.6886 - accuracy: 0.7540 - val_loss: 0.3132 - val_accuracy: 0.9461\n",
      "Epoch 148/1000\n",
      "34/35 [============================>.] - ETA: 0s - loss: 0.6842 - accuracy: 0.7511\n",
      "Epoch 148: saving model to model/keypoint_classifier\\keypoint_classifier.hdf5\n",
      "35/35 [==============================] - 0s 6ms/step - loss: 0.6859 - accuracy: 0.7503 - val_loss: 0.3131 - val_accuracy: 0.9392\n",
      "Epoch 149/1000\n",
      "35/35 [==============================] - ETA: 0s - loss: 0.6847 - accuracy: 0.7494\n",
      "Epoch 149: saving model to model/keypoint_classifier\\keypoint_classifier.hdf5\n",
      "35/35 [==============================] - 0s 6ms/step - loss: 0.6847 - accuracy: 0.7494 - val_loss: 0.3112 - val_accuracy: 0.9433\n",
      "Epoch 150/1000\n",
      "25/35 [====================>.........] - ETA: 0s - loss: 0.6731 - accuracy: 0.7559\n",
      "Epoch 150: saving model to model/keypoint_classifier\\keypoint_classifier.hdf5\n",
      "35/35 [==============================] - 0s 5ms/step - loss: 0.6740 - accuracy: 0.7528 - val_loss: 0.3125 - val_accuracy: 0.9392\n",
      "Epoch 151/1000\n",
      "20/35 [================>.............] - ETA: 0s - loss: 0.6904 - accuracy: 0.7563\n",
      "Epoch 151: saving model to model/keypoint_classifier\\keypoint_classifier.hdf5\n",
      "35/35 [==============================] - 0s 5ms/step - loss: 0.6888 - accuracy: 0.7583 - val_loss: 0.3148 - val_accuracy: 0.9413\n",
      "Epoch 152/1000\n",
      "22/35 [=================>............] - ETA: 0s - loss: 0.6759 - accuracy: 0.7578\n",
      "Epoch 152: saving model to model/keypoint_classifier\\keypoint_classifier.hdf5\n",
      "35/35 [==============================] - 0s 5ms/step - loss: 0.6744 - accuracy: 0.7579 - val_loss: 0.3130 - val_accuracy: 0.9433\n",
      "Epoch 153/1000\n",
      "35/35 [==============================] - ETA: 0s - loss: 0.6673 - accuracy: 0.7579\n",
      "Epoch 153: saving model to model/keypoint_classifier\\keypoint_classifier.hdf5\n",
      "35/35 [==============================] - 0s 6ms/step - loss: 0.6673 - accuracy: 0.7579 - val_loss: 0.3080 - val_accuracy: 0.9447\n",
      "Epoch 154/1000\n",
      "19/35 [===============>..............] - ETA: 0s - loss: 0.6781 - accuracy: 0.7595\n",
      "Epoch 154: saving model to model/keypoint_classifier\\keypoint_classifier.hdf5\n",
      "35/35 [==============================] - 0s 6ms/step - loss: 0.6765 - accuracy: 0.7579 - val_loss: 0.3110 - val_accuracy: 0.9427\n",
      "Epoch 155/1000\n",
      "26/35 [=====================>........] - ETA: 0s - loss: 0.6695 - accuracy: 0.7497\n",
      "Epoch 155: saving model to model/keypoint_classifier\\keypoint_classifier.hdf5\n",
      "35/35 [==============================] - 0s 5ms/step - loss: 0.6678 - accuracy: 0.7533 - val_loss: 0.3164 - val_accuracy: 0.9447\n",
      "Epoch 156/1000\n",
      "21/35 [=================>............] - ETA: 0s - loss: 0.6779 - accuracy: 0.7541\n",
      "Epoch 156: saving model to model/keypoint_classifier\\keypoint_classifier.hdf5\n",
      "35/35 [==============================] - 0s 5ms/step - loss: 0.6749 - accuracy: 0.7560 - val_loss: 0.3181 - val_accuracy: 0.9399\n",
      "Epoch 157/1000\n",
      "19/35 [===============>..............] - ETA: 0s - loss: 0.6559 - accuracy: 0.7656\n",
      "Epoch 157: saving model to model/keypoint_classifier\\keypoint_classifier.hdf5\n",
      "35/35 [==============================] - 0s 6ms/step - loss: 0.6734 - accuracy: 0.7594 - val_loss: 0.3135 - val_accuracy: 0.9433\n",
      "Epoch 158/1000\n",
      "26/35 [=====================>........] - ETA: 0s - loss: 0.6989 - accuracy: 0.7542\n",
      "Epoch 158: saving model to model/keypoint_classifier\\keypoint_classifier.hdf5\n",
      "35/35 [==============================] - 0s 4ms/step - loss: 0.6794 - accuracy: 0.7613 - val_loss: 0.3108 - val_accuracy: 0.9474\n",
      "Epoch 159/1000\n",
      "27/35 [======================>.......] - ETA: 0s - loss: 0.6828 - accuracy: 0.7488\n",
      "Epoch 159: saving model to model/keypoint_classifier\\keypoint_classifier.hdf5\n",
      "35/35 [==============================] - 0s 4ms/step - loss: 0.6858 - accuracy: 0.7499 - val_loss: 0.3088 - val_accuracy: 0.9536\n",
      "Epoch 160/1000\n",
      "29/35 [=======================>......] - ETA: 0s - loss: 0.6749 - accuracy: 0.7589\n",
      "Epoch 160: saving model to model/keypoint_classifier\\keypoint_classifier.hdf5\n",
      "35/35 [==============================] - 0s 4ms/step - loss: 0.6787 - accuracy: 0.7551 - val_loss: 0.3117 - val_accuracy: 0.9433\n",
      "Epoch 161/1000\n",
      "24/35 [===================>..........] - ETA: 0s - loss: 0.6664 - accuracy: 0.7611\n",
      "Epoch 161: saving model to model/keypoint_classifier\\keypoint_classifier.hdf5\n",
      "35/35 [==============================] - 0s 5ms/step - loss: 0.6713 - accuracy: 0.7599 - val_loss: 0.3089 - val_accuracy: 0.9468\n",
      "Epoch 162/1000\n",
      "27/35 [======================>.......] - ETA: 0s - loss: 0.6876 - accuracy: 0.7552\n",
      "Epoch 162: saving model to model/keypoint_classifier\\keypoint_classifier.hdf5\n",
      "35/35 [==============================] - 0s 4ms/step - loss: 0.6767 - accuracy: 0.7579 - val_loss: 0.3042 - val_accuracy: 0.9468\n"
     ]
    },
    {
     "name": "stdout",
     "output_type": "stream",
     "text": [
      "Epoch 163/1000\n",
      "18/35 [==============>...............] - ETA: 0s - loss: 0.6817 - accuracy: 0.7522\n",
      "Epoch 163: saving model to model/keypoint_classifier\\keypoint_classifier.hdf5\n",
      "35/35 [==============================] - 0s 5ms/step - loss: 0.6783 - accuracy: 0.7551 - val_loss: 0.3137 - val_accuracy: 0.9488\n",
      "Epoch 164/1000\n",
      "31/35 [=========================>....] - ETA: 0s - loss: 0.6953 - accuracy: 0.7399\n",
      "Epoch 164: saving model to model/keypoint_classifier\\keypoint_classifier.hdf5\n",
      "35/35 [==============================] - 0s 4ms/step - loss: 0.6949 - accuracy: 0.7401 - val_loss: 0.3260 - val_accuracy: 0.9474\n",
      "Epoch 165/1000\n",
      "29/35 [=======================>......] - ETA: 0s - loss: 0.6722 - accuracy: 0.7616\n",
      "Epoch 165: saving model to model/keypoint_classifier\\keypoint_classifier.hdf5\n",
      "35/35 [==============================] - 0s 3ms/step - loss: 0.6715 - accuracy: 0.7597 - val_loss: 0.3149 - val_accuracy: 0.9433\n",
      "Epoch 166/1000\n",
      "30/35 [========================>.....] - ETA: 0s - loss: 0.6682 - accuracy: 0.7641\n",
      "Epoch 166: saving model to model/keypoint_classifier\\keypoint_classifier.hdf5\n",
      "35/35 [==============================] - 0s 4ms/step - loss: 0.6596 - accuracy: 0.7670 - val_loss: 0.3039 - val_accuracy: 0.9502\n",
      "Epoch 167/1000\n",
      "33/35 [===========================>..] - ETA: 0s - loss: 0.6708 - accuracy: 0.7571\n",
      "Epoch 167: saving model to model/keypoint_classifier\\keypoint_classifier.hdf5\n",
      "35/35 [==============================] - 0s 4ms/step - loss: 0.6700 - accuracy: 0.7581 - val_loss: 0.3093 - val_accuracy: 0.9481\n",
      "Epoch 168/1000\n",
      "20/35 [================>.............] - ETA: 0s - loss: 0.6579 - accuracy: 0.7652\n",
      "Epoch 168: saving model to model/keypoint_classifier\\keypoint_classifier.hdf5\n",
      "35/35 [==============================] - 0s 6ms/step - loss: 0.6610 - accuracy: 0.7649 - val_loss: 0.3083 - val_accuracy: 0.9474\n",
      "Epoch 169/1000\n",
      "19/35 [===============>..............] - ETA: 0s - loss: 0.6822 - accuracy: 0.7582\n",
      "Epoch 169: saving model to model/keypoint_classifier\\keypoint_classifier.hdf5\n",
      "35/35 [==============================] - 0s 5ms/step - loss: 0.6766 - accuracy: 0.7615 - val_loss: 0.3113 - val_accuracy: 0.9440\n",
      "Epoch 170/1000\n",
      "19/35 [===============>..............] - ETA: 0s - loss: 0.6441 - accuracy: 0.7558\n",
      "Epoch 170: saving model to model/keypoint_classifier\\keypoint_classifier.hdf5\n",
      "35/35 [==============================] - 0s 6ms/step - loss: 0.6555 - accuracy: 0.7553 - val_loss: 0.3116 - val_accuracy: 0.9365\n",
      "Epoch 171/1000\n",
      "18/35 [==============>...............] - ETA: 0s - loss: 0.6513 - accuracy: 0.7578\n",
      "Epoch 171: saving model to model/keypoint_classifier\\keypoint_classifier.hdf5\n",
      "35/35 [==============================] - 0s 5ms/step - loss: 0.6769 - accuracy: 0.7535 - val_loss: 0.3139 - val_accuracy: 0.9413\n",
      "Epoch 172/1000\n",
      "35/35 [==============================] - ETA: 0s - loss: 0.6781 - accuracy: 0.7519\n",
      "Epoch 172: saving model to model/keypoint_classifier\\keypoint_classifier.hdf5\n",
      "35/35 [==============================] - 0s 7ms/step - loss: 0.6781 - accuracy: 0.7519 - val_loss: 0.3097 - val_accuracy: 0.9447\n",
      "Epoch 173/1000\n",
      "19/35 [===============>..............] - ETA: 0s - loss: 0.6504 - accuracy: 0.7590\n",
      "Epoch 173: saving model to model/keypoint_classifier\\keypoint_classifier.hdf5\n",
      "35/35 [==============================] - 0s 6ms/step - loss: 0.6664 - accuracy: 0.7588 - val_loss: 0.3169 - val_accuracy: 0.9345\n",
      "Epoch 174/1000\n",
      "18/35 [==============>...............] - ETA: 0s - loss: 0.6747 - accuracy: 0.7496\n",
      "Epoch 174: saving model to model/keypoint_classifier\\keypoint_classifier.hdf5\n",
      "35/35 [==============================] - 0s 6ms/step - loss: 0.6611 - accuracy: 0.7585 - val_loss: 0.3124 - val_accuracy: 0.9447\n",
      "Epoch 175/1000\n",
      "33/35 [===========================>..] - ETA: 0s - loss: 0.6851 - accuracy: 0.7472\n",
      "Epoch 175: saving model to model/keypoint_classifier\\keypoint_classifier.hdf5\n",
      "35/35 [==============================] - 0s 6ms/step - loss: 0.6864 - accuracy: 0.7483 - val_loss: 0.3136 - val_accuracy: 0.9427\n",
      "Epoch 176/1000\n",
      "19/35 [===============>..............] - ETA: 0s - loss: 0.6700 - accuracy: 0.7566\n",
      "Epoch 176: saving model to model/keypoint_classifier\\keypoint_classifier.hdf5\n",
      "35/35 [==============================] - 0s 6ms/step - loss: 0.6772 - accuracy: 0.7513 - val_loss: 0.3112 - val_accuracy: 0.9454\n",
      "Epoch 177/1000\n",
      "20/35 [================>.............] - ETA: 0s - loss: 0.6874 - accuracy: 0.7520\n",
      "Epoch 177: saving model to model/keypoint_classifier\\keypoint_classifier.hdf5\n",
      "35/35 [==============================] - 0s 5ms/step - loss: 0.6860 - accuracy: 0.7526 - val_loss: 0.3097 - val_accuracy: 0.9427\n",
      "Epoch 178/1000\n",
      "18/35 [==============>...............] - ETA: 0s - loss: 0.6396 - accuracy: 0.7643\n",
      "Epoch 178: saving model to model/keypoint_classifier\\keypoint_classifier.hdf5\n",
      "35/35 [==============================] - 0s 6ms/step - loss: 0.6709 - accuracy: 0.7544 - val_loss: 0.3119 - val_accuracy: 0.9413\n",
      "Epoch 179/1000\n",
      "18/35 [==============>...............] - ETA: 0s - loss: 0.6576 - accuracy: 0.7656\n",
      "Epoch 179: saving model to model/keypoint_classifier\\keypoint_classifier.hdf5\n",
      "35/35 [==============================] - 0s 5ms/step - loss: 0.6643 - accuracy: 0.7617 - val_loss: 0.3130 - val_accuracy: 0.9406\n",
      "Epoch 180/1000\n",
      "19/35 [===============>..............] - ETA: 0s - loss: 0.6614 - accuracy: 0.7640\n",
      "Epoch 180: saving model to model/keypoint_classifier\\keypoint_classifier.hdf5\n",
      "35/35 [==============================] - 0s 5ms/step - loss: 0.6679 - accuracy: 0.7585 - val_loss: 0.3103 - val_accuracy: 0.9399\n",
      "Epoch 181/1000\n",
      "35/35 [==============================] - ETA: 0s - loss: 0.6688 - accuracy: 0.7615\n",
      "Epoch 181: saving model to model/keypoint_classifier\\keypoint_classifier.hdf5\n",
      "35/35 [==============================] - 0s 6ms/step - loss: 0.6688 - accuracy: 0.7615 - val_loss: 0.3111 - val_accuracy: 0.9406\n",
      "Epoch 182/1000\n",
      "21/35 [=================>............] - ETA: 0s - loss: 0.6757 - accuracy: 0.7552\n",
      "Epoch 182: saving model to model/keypoint_classifier\\keypoint_classifier.hdf5\n",
      "35/35 [==============================] - 0s 5ms/step - loss: 0.6642 - accuracy: 0.7615 - val_loss: 0.3119 - val_accuracy: 0.9406\n",
      "Epoch 183/1000\n",
      "19/35 [===============>..............] - ETA: 0s - loss: 0.6691 - accuracy: 0.7603\n",
      "Epoch 183: saving model to model/keypoint_classifier\\keypoint_classifier.hdf5\n",
      "35/35 [==============================] - 0s 5ms/step - loss: 0.6614 - accuracy: 0.7633 - val_loss: 0.3060 - val_accuracy: 0.9392\n",
      "Epoch 184/1000\n",
      "23/35 [==================>...........] - ETA: 0s - loss: 0.6821 - accuracy: 0.7537\n",
      "Epoch 184: saving model to model/keypoint_classifier\\keypoint_classifier.hdf5\n",
      "35/35 [==============================] - 0s 5ms/step - loss: 0.6728 - accuracy: 0.7535 - val_loss: 0.3145 - val_accuracy: 0.9345\n",
      "Epoch 185/1000\n",
      "21/35 [=================>............] - ETA: 0s - loss: 0.6618 - accuracy: 0.7701\n",
      "Epoch 185: saving model to model/keypoint_classifier\\keypoint_classifier.hdf5\n",
      "35/35 [==============================] - 0s 5ms/step - loss: 0.6473 - accuracy: 0.7761 - val_loss: 0.3059 - val_accuracy: 0.9399\n",
      "Epoch 186/1000\n",
      "21/35 [=================>............] - ETA: 0s - loss: 0.6658 - accuracy: 0.7600\n",
      "Epoch 186: saving model to model/keypoint_classifier\\keypoint_classifier.hdf5\n",
      "35/35 [==============================] - 0s 5ms/step - loss: 0.6677 - accuracy: 0.7638 - val_loss: 0.3102 - val_accuracy: 0.9420\n",
      "Epoch 186: early stopping\n"
     ]
    },
    {
     "data": {
      "text/plain": [
       "<keras.callbacks.History at 0x241b8dc5fd0>"
      ]
     },
     "execution_count": 13,
     "metadata": {},
     "output_type": "execute_result"
    }
   ],
   "source": [
    "model.fit(\n",
    "    X_train,\n",
    "    y_train,\n",
    "    epochs=1000,\n",
    "    batch_size=128,\n",
    "    validation_data=(X_test, y_test),\n",
    "    callbacks=[cp_callback, es_callback]\n",
    ")"
   ]
  },
  {
   "cell_type": "code",
   "execution_count": 14,
   "metadata": {
    "colab": {
     "base_uri": "https://localhost:8080/"
    },
    "id": "pxvb2Y299hE3",
    "outputId": "59eb3185-2e37-4b9e-bc9d-ab1b8ac29b7f"
   },
   "outputs": [
    {
     "name": "stdout",
     "output_type": "stream",
     "text": [
      "12/12 [==============================] - 0s 2ms/step - loss: 0.3102 - accuracy: 0.9420\n"
     ]
    }
   ],
   "source": [
    "# Model evaluation\n",
    "val_loss, val_acc = model.evaluate(X_test, y_test, batch_size=128)"
   ]
  },
  {
   "cell_type": "code",
   "execution_count": 15,
   "metadata": {
    "id": "RBkmDeUW9hE4"
   },
   "outputs": [],
   "source": [
    "# Loading the saved model\n",
    "model = tf.keras.models.load_model(model_save_path)"
   ]
  },
  {
   "cell_type": "code",
   "execution_count": 16,
   "metadata": {
    "colab": {
     "base_uri": "https://localhost:8080/"
    },
    "id": "tFz9Tb0I9hE4",
    "outputId": "1c3b3528-54ae-4ee2-ab04-77429211cbef"
   },
   "outputs": [
    {
     "name": "stdout",
     "output_type": "stream",
     "text": [
      "1/1 [==============================] - 0s 82ms/step\n",
      "[5.2095181e-01 6.5894648e-02 3.0208068e-04 4.1188362e-01 7.5556408e-04\n",
      " 2.1223161e-04]\n",
      "0\n"
     ]
    }
   ],
   "source": [
    "# Inference test\n",
    "predict_result = model.predict(np.array([X_test[0]]))\n",
    "print(np.squeeze(predict_result))\n",
    "print(np.argmax(np.squeeze(predict_result)))"
   ]
  },
  {
   "cell_type": "markdown",
   "metadata": {
    "id": "S3U4yNWx9hE4"
   },
   "source": [
    "# Confusion matrix"
   ]
  },
  {
   "cell_type": "code",
   "execution_count": 17,
   "metadata": {
    "colab": {
     "base_uri": "https://localhost:8080/",
     "height": 582
    },
    "id": "AP1V6SCk9hE5",
    "outputId": "08e41a80-7a4a-4619-8125-ecc371368d19"
   },
   "outputs": [
    {
     "name": "stdout",
     "output_type": "stream",
     "text": [
      "46/46 [==============================] - 0s 1ms/step\n"
     ]
    },
    {
     "data": {
      "image/png": "[encoded data removed]",
      "text/plain": [
       "<Figure size 700x600 with 2 Axes>"
      ]
     },
     "metadata": {},
     "output_type": "display_data"
    },
    {
     "name": "stdout",
     "output_type": "stream",
     "text": [
      "Classification Report\n",
      "              precision    recall  f1-score   support\n",
      "\n",
      "           0       0.97      0.93      0.95       400\n",
      "           1       0.98      0.91      0.94       394\n",
      "           2       0.90      0.98      0.94       325\n",
      "           3       0.80      0.97      0.88        89\n",
      "           4       1.00      0.89      0.94       122\n",
      "           5       0.91      1.00      0.95       135\n",
      "\n",
      "    accuracy                           0.94      1465\n",
      "   macro avg       0.93      0.95      0.94      1465\n",
      "weighted avg       0.95      0.94      0.94      1465\n",
      "\n"
     ]
    }
   ],
   "source": [
    "import pandas as pd\n",
    "import seaborn as sns\n",
    "import matplotlib.pyplot as plt\n",
    "from sklearn.metrics import confusion_matrix, classification_report\n",
    "\n",
    "def print_confusion_matrix(y_true, y_pred, report=True):\n",
    "    labels = sorted(list(set(y_true)))\n",
    "    cmx_data = confusion_matrix(y_true, y_pred, labels=labels)\n",
    "    \n",
    "    df_cmx = pd.DataFrame(cmx_data, index=labels, columns=labels)\n",
    " \n",
    "    fig, ax = plt.subplots(figsize=(7, 6))\n",
    "    sns.heatmap(df_cmx, annot=True, fmt='g' ,square=False)\n",
    "    ax.set_ylim(len(set(y_true)), 0)\n",
    "    plt.show()\n",
    "    \n",
    "    if report:\n",
    "        print('Classification Report')\n",
    "        print(classification_report(y_test, y_pred))\n",
    "\n",
    "Y_pred = model.predict(X_test)\n",
    "y_pred = np.argmax(Y_pred, axis=1)\n",
    "\n",
    "print_confusion_matrix(y_test, y_pred)"
   ]
  },
  {
   "cell_type": "markdown",
   "metadata": {
    "id": "FNP6aqzc9hE5"
   },
   "source": [
    "# Convert to model for Tensorflow-Lite"
   ]
  },
  {
   "cell_type": "code",
   "execution_count": 18,
   "metadata": {
    "id": "ODjnYyld9hE6"
   },
   "outputs": [],
   "source": [
    "# Save as a model dedicated to inference\n",
    "model.save(model_save_path, include_optimizer=False)"
   ]
  },
  {
   "cell_type": "code",
   "execution_count": 19,
   "metadata": {
    "colab": {
     "base_uri": "https://localhost:8080/"
    },
    "id": "zRfuK8Y59hE6",
    "outputId": "a4ca585c-b5d5-4244-8291-8674063209bb"
   },
   "outputs": [
    {
     "name": "stderr",
     "output_type": "stream",
     "text": [
      "WARNING:absl:Found untraced functions such as _update_step_xla while saving (showing 1 of 1). These functions will not be directly callable after loading.\n"
     ]
    },
    {
     "name": "stdout",
     "output_type": "stream",
     "text": [
      "INFO:tensorflow:Assets written to: C:\\Users\\91799\\AppData\\Local\\Temp\\tmp039bm91r\\assets\n"
     ]
    },
    {
     "name": "stderr",
     "output_type": "stream",
     "text": [
      "INFO:tensorflow:Assets written to: C:\\Users\\91799\\AppData\\Local\\Temp\\tmp039bm91r\\assets\n"
     ]
    },
    {
     "data": {
      "text/plain": [
       "6632"
      ]
     },
     "execution_count": 19,
     "metadata": {},
     "output_type": "execute_result"
    }
   ],
   "source": [
    "# Transform model (quantization)\n",
    "\n",
    "converter = tf.lite.TFLiteConverter.from_keras_model(model)\n",
    "converter.optimizations = [tf.lite.Optimize.DEFAULT]\n",
    "tflite_quantized_model = converter.convert()\n",
    "\n",
    "open(tflite_save_path, 'wb').write(tflite_quantized_model)"
   ]
  },
  {
   "cell_type": "markdown",
   "metadata": {
    "id": "CHBPBXdx9hE6"
   },
   "source": [
    "# Inference test"
   ]
  },
  {
   "cell_type": "code",
   "execution_count": 20,
   "metadata": {
    "id": "mGAzLocO9hE7"
   },
   "outputs": [],
   "source": [
    "interpreter = tf.lite.Interpreter(model_path=tflite_save_path)\n",
    "interpreter.allocate_tensors()"
   ]
  },
  {
   "cell_type": "code",
   "execution_count": 21,
   "metadata": {
    "id": "oQuDK8YS9hE7"
   },
   "outputs": [],
   "source": [
    "# Get I / O tensor\n",
    "input_details = interpreter.get_input_details()\n",
    "output_details = interpreter.get_output_details()"
   ]
  },
  {
   "cell_type": "code",
   "execution_count": 22,
   "metadata": {
    "id": "2_ixAf_l9hE7"
   },
   "outputs": [],
   "source": [
    "interpreter.set_tensor(input_details[0]['index'], np.array([X_test[0]]))"
   ]
  },
  {
   "cell_type": "code",
   "execution_count": 23,
   "metadata": {
    "colab": {
     "base_uri": "https://localhost:8080/"
    },
    "id": "s4FoAnuc9hE7",
    "outputId": "91f18257-8d8b-4ef3-c558-e9b5f94fabbf",
    "scrolled": true
   },
   "outputs": [
    {
     "name": "stdout",
     "output_type": "stream",
     "text": [
      "CPU times: total: 0 ns\n",
      "Wall time: 0 ns\n"
     ]
    }
   ],
   "source": [
    "%%time\n",
    "# Inference implementation\n",
    "interpreter.invoke()\n",
    "tflite_results = interpreter.get_tensor(output_details[0]['index'])"
   ]
  },
  {
   "cell_type": "code",
   "execution_count": 24,
   "metadata": {
    "colab": {
     "base_uri": "https://localhost:8080/"
    },
    "id": "vONjp19J9hE8",
    "outputId": "77205e24-fd00-42c4-f7b6-e06e527c2cba"
   },
   "outputs": [
    {
     "name": "stdout",
     "output_type": "stream",
     "text": [
      "[5.2095181e-01 6.5894663e-02 3.0208065e-04 4.1188371e-01 7.5556443e-04\n",
      " 2.1223139e-04]\n",
      "0\n"
     ]
    }
   ],
   "source": [
    "print(np.squeeze(tflite_results))\n",
    "print(np.argmax(np.squeeze(tflite_results)))"
   ]
  }
 ],
 "metadata": {
  "accelerator": "GPU",
  "colab": {
   "collapsed_sections": [],
   "name": "keypoint_classification_EN.ipynb",
   "provenance": [],
   "toc_visible": true
  },
  "kernelspec": {
   "display_name": "Python 3 (ipykernel)",
   "language": "python",
   "name": "python3"
  },
  "language_info": {
   "codemirror_mode": {
    "name": "ipython",
    "version": 3
   },
   "file_extension": ".py",
   "mimetype": "text/x-python",
   "name": "python",
   "nbconvert_exporter": "python",
   "pygments_lexer": "ipython3",
   "version": "3.9.4"
  }
 },
 "nbformat": 4,
 "nbformat_minor": 1
}
